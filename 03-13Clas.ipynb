{
 "cells": [
  {
   "cell_type": "code",
   "execution_count": 4,
   "id": "27aed7eb-52be-41cc-b015-5abaaf4dd7a2",
   "metadata": {},
   "outputs": [
    {
     "name": "stdout",
     "output_type": "stream",
     "text": [
      "2 5 4 \n",
      "5\n",
      "2 1 4 \n",
      "3\n",
      "2 4 \n"
     ]
    }
   ],
   "source": [
    "class link():\n",
    "    def __init__(self, el):\n",
    "        self.el = el\n",
    "        self.next = None\n",
    "        self.prev = None\n",
    "        self.head = self\n",
    "        self.tail = self\n",
    "        self.index = 0\n",
    "\n",
    "    # def push(self,el):\n",
    "    #     newL= link(el)\n",
    "    #     self.head.prev = newL\n",
    "    #     newL.next = self.head\n",
    "    #     self.head = newL\n",
    "    def append(self, el):\n",
    "        newL = link(el)\n",
    "        newL.index = self.tail.index + 1\n",
    "        self.tail.next = newL\n",
    "        newL.prev = self.tail\n",
    "        self.tail = newL\n",
    "    def pop(self, ind):\n",
    "        x = self.getlinkfromindex(ind)\n",
    "        x.prev.next = x.next\n",
    "        x.next.prev = x.prev\n",
    "    def getlinkfromindex(self, ind):\n",
    "        x = self.head\n",
    "        l = x.index\n",
    "        while l != ind:\n",
    "            x = x.next\n",
    "            if x == None:\n",
    "                return False\n",
    "            l = x.index\n",
    "        return x\n",
    "    def __getitem__(self, ind):\n",
    "        x = self.getlinkfromindex(ind)\n",
    "        if x:\n",
    "            return x.el\n",
    "        else:\n",
    "            return (\"Элемента с таким индексом нет\")\n",
    "\n",
    "    def __setitem__(self, key, value):\n",
    "        x = self.getlinkfromindex(key)\n",
    "        if x:\n",
    "            x.el = value\n",
    "        else:print(\"Элемента с таким индексом нет\")\n",
    "\n",
    "    def __len__(self):\n",
    "        return self.tail.index + 1\n",
    "    def __str__(self):\n",
    "        l = ''\n",
    "        x = self.head\n",
    "        while x != None:\n",
    "            l+= str(x.el) +\" \"\n",
    "            x = x.next\n",
    "        return l\n",
    "\n",
    "\n",
    "ch = link(2)\n",
    "ch.append(5)\n",
    "ch.append(4)\n",
    "print(ch)\n",
    "print(ch[1])\n",
    "ch[1] = 1\n",
    "print(ch)\n",
    "print(len(ch))\n",
    "ch.pop(1)\n",
    "print(ch)"
   ]
  },
  {
   "cell_type": "code",
   "execution_count": 17,
   "id": "49f3e65e-8604-46a5-9b94-5931e4329618",
   "metadata": {},
   "outputs": [
    {
     "name": "stdout",
     "output_type": "stream",
     "text": [
      "E\n",
      "K\n",
      "U\n",
      "C\n",
      "Q\n",
      "A\n",
      "E\n",
      "T\n",
      "D\n",
      "S\n"
     ]
    }
   ],
   "source": [
    "from collections import deque\n",
    "a = deque(\"DEQUE\")\n",
    "b = deque(\"STACK\")\n",
    "def gen(a,b):\n",
    "    for i in range(min(len(a), len(b))):\n",
    "        yield a.pop()\n",
    "        yield b.pop()\n",
    "g = gen(a,b)\n",
    "for i in g: \n",
    "    print(i)"
   ]
  },
  {
   "cell_type": "code",
   "execution_count": 27,
   "id": "10f85325-4193-494c-b072-629ebdb5eb40",
   "metadata": {},
   "outputs": [
    {
     "name": "stdout",
     "output_type": "stream",
     "text": [
      "16 25 36 49 64 81\n",
      "4 9\n"
     ]
    }
   ],
   "source": [
    "class Pump():\n",
    "    def __init__(self, g, q):\n",
    "        self.g = g\n",
    "        self.q = q\n",
    "    def action(self):\n",
    "        x = next(self.g)\n",
    "        self.q.append(x)\n",
    "g = (i ** 2 for i in range(2, 10))\n",
    "q = deque()\n",
    "p = Pump(g,q)\n",
    "p.action()\n",
    "p.action()\n",
    "print(*p.g)\n",
    "print(*p.q)"
   ]
  },
  {
   "cell_type": "code",
   "execution_count": 65,
   "id": "6eff308f-d382-4905-bf59-1b959c3d8ec7",
   "metadata": {},
   "outputs": [
    {
     "name": "stdout",
     "output_type": "stream",
     "text": [
      "25 36 49 64 81\n",
      "4 9 16\n"
     ]
    }
   ],
   "source": [
    "g = (i ** 2 for i in range(2, 10))\n",
    "q = deque()\n",
    "p = Pump(g,q)\n",
    "class MultiAction():\n",
    "    def __init__(self, n, cl):\n",
    "        self.n = n\n",
    "        self.cl = cl\n",
    "    def action(self):\n",
    "        for i in range(self.n):self.cl.action()\n",
    "MA = MultiAction(3, p)\n",
    "MA.action()\n",
    "print(*p.g)\n",
    "print(*p.q)"
   ]
  },
  {
   "cell_type": "code",
   "execution_count": 94,
   "id": "d9f5322c-e404-4179-8a4c-caa6f3d700b9",
   "metadata": {},
   "outputs": [
    {
     "data": {
      "text/plain": [
       "(deque([4, 16]), deque([9]))"
      ]
     },
     "execution_count": 94,
     "metadata": {},
     "output_type": "execute_result"
    }
   ],
   "source": [
    "class MultiPump():\n",
    "    def __init__(self,*qs):\n",
    "        self.qs = qs\n",
    "        self.c = 0\n",
    "    def action(self, g):\n",
    "        self.qs[self.c%len(self.qs)].append(next(g))\n",
    "        self.c += 1\n",
    "q1 = deque()\n",
    "q2 = deque()\n",
    "MP = MultiPump(q1,q2)\n",
    "g = (i ** 2 for i in range(2, 10))\n",
    "MP.action(g)\n",
    "MP.action(g)\n",
    "MP.action(g)\n",
    "MP.qs"
   ]
  },
  {
   "cell_type": "code",
   "execution_count": 114,
   "id": "49a87be8-6837-4f18-a2a9-7aa3e864eefc",
   "metadata": {},
   "outputs": [
    {
     "data": {
      "text/plain": [
       "deque(['U',\n",
       "       'P',\n",
       "       'J',\n",
       "       'U',\n",
       "       'A',\n",
       "       'J',\n",
       "       'E',\n",
       "       'K',\n",
       "       'W',\n",
       "       'C',\n",
       "       'Y',\n",
       "       'F',\n",
       "       'I',\n",
       "       'A',\n",
       "       'Z'])"
      ]
     },
     "execution_count": 114,
     "metadata": {},
     "output_type": "execute_result"
    }
   ],
   "source": [
    "from random import choices, randint\n",
    "from string import ascii_uppercase\n",
    "def GenFromQ(*qs):\n",
    "    c = 0\n",
    "    for q in qs[1:]:\n",
    "        qs[0].extend(q)\n",
    "    return qs[0]\n",
    "def Rstr():\n",
    "    a = (i for i in choices(ascii_uppercase, k=randint(1,10)))\n",
    "    return a\n",
    "d1 = deque()\n",
    "d2 = deque()\n",
    "d3 = deque()\n",
    "MuP = MultiPump(d1,d2,d3)\n",
    "for i in range(3):\n",
    "    a = Rstr()\n",
    "    while True:\n",
    "        try:\n",
    "            MuP.action(a)\n",
    "        except StopIteration:\n",
    "            break\n",
    "GenFromQ(d1,d2,d3)"
   ]
  },
  {
   "cell_type": "code",
   "execution_count": null,
   "id": "9db5115f-84fb-4c87-a12d-93449005a3ea",
   "metadata": {},
   "outputs": [],
   "source": []
  },
  {
   "cell_type": "code",
   "execution_count": null,
   "id": "9ae202a6-e13b-4626-8439-e681567aed77",
   "metadata": {},
   "outputs": [],
   "source": []
  },
  {
   "cell_type": "code",
   "execution_count": null,
   "id": "5fb7cdcb-bc99-4847-97f9-b63f7225a59e",
   "metadata": {},
   "outputs": [],
   "source": []
  }
 ],
 "metadata": {
  "kernelspec": {
   "display_name": "Python 3 (ipykernel)",
   "language": "python",
   "name": "python3"
  },
  "language_info": {
   "codemirror_mode": {
    "name": "ipython",
    "version": 3
   },
   "file_extension": ".py",
   "mimetype": "text/x-python",
   "name": "python",
   "nbconvert_exporter": "python",
   "pygments_lexer": "ipython3",
   "version": "3.11.0"
  }
 },
 "nbformat": 4,
 "nbformat_minor": 5
}
