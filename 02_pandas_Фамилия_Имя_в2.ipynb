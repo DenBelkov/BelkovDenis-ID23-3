{
 "cells": [
  {
   "cell_type": "markdown",
   "metadata": {
    "editable": true,
    "slideshow": {
     "slide_type": ""
    },
    "tags": []
   },
   "source": [
    "# Pandas"
   ]
  },
  {
   "cell_type": "code",
   "execution_count": null,
   "metadata": {},
   "outputs": [],
   "source": []
  },
  {
   "cell_type": "code",
   "execution_count": null,
   "metadata": {},
   "outputs": [],
   "source": []
  },
  {
   "cell_type": "markdown",
   "metadata": {},
   "source": [
    "Материалы:\n",
    "* Макрушин С.В. \"Лекция 2: Библиотека Pandas\"\n",
    "* https://pandas.pydata.org/docs/user_guide/index.html#\n",
    "* https://pandas.pydata.org/docs/reference/index.html\n",
    "* Уэс Маккини. Python и анализ данных"
   ]
  },
  {
   "cell_type": "markdown",
   "metadata": {},
   "source": [
    "## Задачи для совместного разбора"
   ]
  },
  {
   "cell_type": "markdown",
   "metadata": {},
   "source": [
    "1. Загрузите данные из файла `sp500hst.txt` и обозначьте столбцы в соответствии с содержимым: `\"date\", \"ticker\", \"open\", \"high\", \"low\", \"close\", \"volume\"`."
   ]
  },
  {
   "cell_type": "code",
   "execution_count": 2,
   "metadata": {},
   "outputs": [
    {
     "name": "stdout",
     "output_type": "stream",
     "text": [
      "            date ticker   open     high     low  close  volume\n",
      "0       20090824      A  25.64  25.7400  25.330  25.50   22247\n",
      "1       20090825      A  25.50  25.7000  25.225  25.34   30891\n",
      "2       20090826      A  25.32  25.6425  25.145  25.48   33334\n",
      "3       20090827      A  25.50  25.5700  25.230  25.54   70176\n",
      "4       20090828      A  25.67  26.0500  25.630  25.83   39694\n",
      "...          ...    ...    ...      ...     ...    ...     ...\n",
      "122568  20100813    ZMH  51.72  51.9000  51.380  51.44   14561\n",
      "122569  20100816    ZMH  51.13  51.4700  50.600  51.00   13489\n",
      "122570  20100817    ZMH  51.14  51.6000  50.890  51.21   20498\n",
      "122571  20100819    ZMH  51.63  51.6300  50.170  50.22   18259\n",
      "122572  20100820    ZMH  50.03  50.5500  49.480  49.82   17792\n",
      "\n",
      "[122573 rows x 7 columns]\n"
     ]
    }
   ],
   "source": [
    "import pandas as pd\n",
    "d = pd.read_csv(\"sp500hst.txt\")\n",
    "d.columns = [\"date\", \"ticker\", \"open\", \"high\", \"low\", \"close\", \"volume\"]\n",
    "print(d)"
   ]
  },
  {
   "cell_type": "markdown",
   "metadata": {},
   "source": [
    "2. Рассчитайте среднее значение показателей для каждого из столбцов c номерами 3-6."
   ]
  },
  {
   "cell_type": "code",
   "execution_count": 3,
   "metadata": {},
   "outputs": [
    {
     "data": {
      "text/plain": [
       "open     42.595596\n",
       "high     43.102386\n",
       "low      42.054601\n",
       "close    42.602004\n",
       "dtype: float64"
      ]
     },
     "execution_count": 3,
     "metadata": {},
     "output_type": "execute_result"
    }
   ],
   "source": [
    "d.iloc[:,2:6].mean(axis=0)"
   ]
  },
  {
   "cell_type": "markdown",
   "metadata": {},
   "source": [
    "3. Добавьте столбец, содержащий только число месяца, к которому относится дата."
   ]
  },
  {
   "cell_type": "code",
   "execution_count": 54,
   "metadata": {},
   "outputs": [
    {
     "data": {
      "text/html": [
       "<div>\n",
       "<style scoped>\n",
       "    .dataframe tbody tr th:only-of-type {\n",
       "        vertical-align: middle;\n",
       "    }\n",
       "\n",
       "    .dataframe tbody tr th {\n",
       "        vertical-align: top;\n",
       "    }\n",
       "\n",
       "    .dataframe thead th {\n",
       "        text-align: right;\n",
       "    }\n",
       "</style>\n",
       "<table border=\"1\" class=\"dataframe\">\n",
       "  <thead>\n",
       "    <tr style=\"text-align: right;\">\n",
       "      <th></th>\n",
       "      <th>date</th>\n",
       "      <th>ticker</th>\n",
       "      <th>open</th>\n",
       "      <th>high</th>\n",
       "      <th>low</th>\n",
       "      <th>close</th>\n",
       "      <th>volume</th>\n",
       "      <th>day</th>\n",
       "    </tr>\n",
       "  </thead>\n",
       "  <tbody>\n",
       "    <tr>\n",
       "      <th>0</th>\n",
       "      <td>20090824</td>\n",
       "      <td>A</td>\n",
       "      <td>25.64</td>\n",
       "      <td>25.7400</td>\n",
       "      <td>25.330</td>\n",
       "      <td>25.50</td>\n",
       "      <td>22247</td>\n",
       "      <td>24</td>\n",
       "    </tr>\n",
       "    <tr>\n",
       "      <th>1</th>\n",
       "      <td>20090825</td>\n",
       "      <td>A</td>\n",
       "      <td>25.50</td>\n",
       "      <td>25.7000</td>\n",
       "      <td>25.225</td>\n",
       "      <td>25.34</td>\n",
       "      <td>30891</td>\n",
       "      <td>25</td>\n",
       "    </tr>\n",
       "    <tr>\n",
       "      <th>2</th>\n",
       "      <td>20090826</td>\n",
       "      <td>A</td>\n",
       "      <td>25.32</td>\n",
       "      <td>25.6425</td>\n",
       "      <td>25.145</td>\n",
       "      <td>25.48</td>\n",
       "      <td>33334</td>\n",
       "      <td>26</td>\n",
       "    </tr>\n",
       "    <tr>\n",
       "      <th>3</th>\n",
       "      <td>20090827</td>\n",
       "      <td>A</td>\n",
       "      <td>25.50</td>\n",
       "      <td>25.5700</td>\n",
       "      <td>25.230</td>\n",
       "      <td>25.54</td>\n",
       "      <td>70176</td>\n",
       "      <td>27</td>\n",
       "    </tr>\n",
       "    <tr>\n",
       "      <th>4</th>\n",
       "      <td>20090828</td>\n",
       "      <td>A</td>\n",
       "      <td>25.67</td>\n",
       "      <td>26.0500</td>\n",
       "      <td>25.630</td>\n",
       "      <td>25.83</td>\n",
       "      <td>39694</td>\n",
       "      <td>28</td>\n",
       "    </tr>\n",
       "    <tr>\n",
       "      <th>...</th>\n",
       "      <td>...</td>\n",
       "      <td>...</td>\n",
       "      <td>...</td>\n",
       "      <td>...</td>\n",
       "      <td>...</td>\n",
       "      <td>...</td>\n",
       "      <td>...</td>\n",
       "      <td>...</td>\n",
       "    </tr>\n",
       "    <tr>\n",
       "      <th>122568</th>\n",
       "      <td>20100813</td>\n",
       "      <td>ZMH</td>\n",
       "      <td>51.72</td>\n",
       "      <td>51.9000</td>\n",
       "      <td>51.380</td>\n",
       "      <td>51.44</td>\n",
       "      <td>14561</td>\n",
       "      <td>13</td>\n",
       "    </tr>\n",
       "    <tr>\n",
       "      <th>122569</th>\n",
       "      <td>20100816</td>\n",
       "      <td>ZMH</td>\n",
       "      <td>51.13</td>\n",
       "      <td>51.4700</td>\n",
       "      <td>50.600</td>\n",
       "      <td>51.00</td>\n",
       "      <td>13489</td>\n",
       "      <td>16</td>\n",
       "    </tr>\n",
       "    <tr>\n",
       "      <th>122570</th>\n",
       "      <td>20100817</td>\n",
       "      <td>ZMH</td>\n",
       "      <td>51.14</td>\n",
       "      <td>51.6000</td>\n",
       "      <td>50.890</td>\n",
       "      <td>51.21</td>\n",
       "      <td>20498</td>\n",
       "      <td>17</td>\n",
       "    </tr>\n",
       "    <tr>\n",
       "      <th>122571</th>\n",
       "      <td>20100819</td>\n",
       "      <td>ZMH</td>\n",
       "      <td>51.63</td>\n",
       "      <td>51.6300</td>\n",
       "      <td>50.170</td>\n",
       "      <td>50.22</td>\n",
       "      <td>18259</td>\n",
       "      <td>19</td>\n",
       "    </tr>\n",
       "    <tr>\n",
       "      <th>122572</th>\n",
       "      <td>20100820</td>\n",
       "      <td>ZMH</td>\n",
       "      <td>50.03</td>\n",
       "      <td>50.5500</td>\n",
       "      <td>49.480</td>\n",
       "      <td>49.82</td>\n",
       "      <td>17792</td>\n",
       "      <td>20</td>\n",
       "    </tr>\n",
       "  </tbody>\n",
       "</table>\n",
       "<p>122573 rows × 8 columns</p>\n",
       "</div>"
      ],
      "text/plain": [
       "            date ticker   open     high     low  close  volume day\n",
       "0       20090824      A  25.64  25.7400  25.330  25.50   22247  24\n",
       "1       20090825      A  25.50  25.7000  25.225  25.34   30891  25\n",
       "2       20090826      A  25.32  25.6425  25.145  25.48   33334  26\n",
       "3       20090827      A  25.50  25.5700  25.230  25.54   70176  27\n",
       "4       20090828      A  25.67  26.0500  25.630  25.83   39694  28\n",
       "...          ...    ...    ...      ...     ...    ...     ...  ..\n",
       "122568  20100813    ZMH  51.72  51.9000  51.380  51.44   14561  13\n",
       "122569  20100816    ZMH  51.13  51.4700  50.600  51.00   13489  16\n",
       "122570  20100817    ZMH  51.14  51.6000  50.890  51.21   20498  17\n",
       "122571  20100819    ZMH  51.63  51.6300  50.170  50.22   18259  19\n",
       "122572  20100820    ZMH  50.03  50.5500  49.480  49.82   17792  20\n",
       "\n",
       "[122573 rows x 8 columns]"
      ]
     },
     "execution_count": 54,
     "metadata": {},
     "output_type": "execute_result"
    }
   ],
   "source": [
    "d1 = [str(i)[6:] for i in d['date'].values]\n",
    "d['day'] = d1\n",
    "d"
   ]
  },
  {
   "cell_type": "markdown",
   "metadata": {},
   "source": [
    "4. Рассчитайте суммарный объем торгов для для одинаковых значений тикеров."
   ]
  },
  {
   "cell_type": "code",
   "execution_count": 146,
   "metadata": {},
   "outputs": [
    {
     "data": {
      "text/plain": [
       "[('A', 8574578),\n",
       " ('AA', 81898998),\n",
       " ('AAPL', 52261170),\n",
       " ('ABC', 9006756),\n",
       " ('ABT', 18975870),\n",
       " ('ACE', 2906506),\n",
       " ('ACS', 1801668),\n",
       " ('ADBE', 17422423),\n",
       " ('ADI', 10635172),\n",
       " ('ADM', 13339643),\n",
       " ('ADP', 8087866),\n",
       " ('ADSK', 9778386),\n",
       " ('AEE', 4674273),\n",
       " ('AEP', 9280969),\n",
       " ('AES', 18861022),\n",
       " ('AET', 15015411),\n",
       " ('AFL', 9995961),\n",
       " ('AGN', 4755407),\n",
       " ('AIG', 45483813),\n",
       " ('AIV', 6063038),\n",
       " ('AIZ', 3428182),\n",
       " ('AKAM', 10834508),\n",
       " ('AKS', 22978396),\n",
       " ('ALL', 11502909),\n",
       " ('ALTR', 19120427),\n",
       " ('AMAT', 56669291),\n",
       " ('AMD', 70221144),\n",
       " ('AMGN', 16530477),\n",
       " ('AMP', 6643830),\n",
       " ('AMT', 8989869),\n",
       " ('AMZN', 20143089),\n",
       " ('AN', 5946580),\n",
       " ('ANF', 9557503),\n",
       " ('AOC', 1358299),\n",
       " ('AON', 4351448),\n",
       " ('APA', 9695952),\n",
       " ('APC', 17442691),\n",
       " ('APD', 3958011),\n",
       " ('APH', 3192661),\n",
       " ('APOL', 7961605),\n",
       " ('ARG', 2422470),\n",
       " ('ATI', 5537525),\n",
       " ('AVB', 3334148),\n",
       " ('AVP', 10350922),\n",
       " ('AVY', 3430299),\n",
       " ('AXP', 26903337),\n",
       " ('AYE', 6300012),\n",
       " ('AZO', 1585829),\n",
       " ('BA', 14314999),\n",
       " ('BAC', 465813622),\n",
       " ('BAX', 12774405),\n",
       " ('BBBY', 8322086),\n",
       " ('BBT', 17206883),\n",
       " ('BBY', 17081938),\n",
       " ('BCR', 2134300),\n",
       " ('BDK', 1419839),\n",
       " ('BDX', 3739626),\n",
       " ('BEN', 3397388),\n",
       " ('BF.B', 873300),\n",
       " ('BHI', 15817911),\n",
       " ('BIG', 4177709),\n",
       " ('BIIB', 7427346),\n",
       " ('BJS', 11745156),\n",
       " ('BK', 22846085),\n",
       " ('BLL', 2036019),\n",
       " ('BMC', 5694151),\n",
       " ('BMS', 2248041),\n",
       " ('BMY', 39894656),\n",
       " ('BNI', 4813681),\n",
       " ('BRCM', 22183968),\n",
       " ('BRK.B', 8592561),\n",
       " ('BSX', 60477399),\n",
       " ('BTU', 14178851),\n",
       " ('BXP', 4136628),\n",
       " ('C', 1458332551),\n",
       " ('CA', 12526234),\n",
       " ('CAG', 10333211),\n",
       " ('CAH', 9800443),\n",
       " ('CAM', 10218807),\n",
       " ('CAT', 22758619),\n",
       " ('CB', 6448445),\n",
       " ('CBE', 1847438),\n",
       " ('CBG', 10615126),\n",
       " ('CBS', 25742407),\n",
       " ('CCE', 12114950),\n",
       " ('CCL', 11733304),\n",
       " ('CEG', 5027133),\n",
       " ('CELG', 9112960),\n",
       " ('CEPH', 4542462),\n",
       " ('CERN', 611967),\n",
       " ('CF', 5100392),\n",
       " ('CFN', 2933410),\n",
       " ('CHK', 36424597),\n",
       " ('CHRW', 4036265),\n",
       " ('CI', 9701783),\n",
       " ('CIEN', 5533640),\n",
       " ('CINF', 2611673),\n",
       " ('CL', 6662001),\n",
       " ('CLF', 12431920),\n",
       " ('CLX', 3191060),\n",
       " ('CMA', 7085411),\n",
       " ('CMCSA', 57989024),\n",
       " ('CME', 1871233),\n",
       " ('CMI', 6962570),\n",
       " ('CMS', 8388436),\n",
       " ('CNP', 9848857),\n",
       " ('CNX', 10515330),\n",
       " ('COF', 16589463),\n",
       " ('COG', 4213925),\n",
       " ('COH', 10436228),\n",
       " ('COL', 2477059),\n",
       " ('COP', 27731812),\n",
       " ('COST', 9635382),\n",
       " ('CPB', 5671275),\n",
       " ('CPWR', 6488692),\n",
       " ('CRM', 5184851),\n",
       " ('CSC', 2800281),\n",
       " ('CSCO', 121933642),\n",
       " ('CSX', 10757821),\n",
       " ('CTAS', 2950959),\n",
       " ('CTL', 7981530),\n",
       " ('CTSH', 8602623),\n",
       " ('CTXS', 7956952),\n",
       " ('CVG', 1237040),\n",
       " ('CVH', 4406781),\n",
       " ('CVS', 32023462),\n",
       " ('CVX', 25688892),\n",
       " ('D', 7364227),\n",
       " ('DD', 18019143),\n",
       " ('DE', 12202681),\n",
       " ('DELL', 64852414),\n",
       " ('DF', 9507966),\n",
       " ('DFS', 17114171),\n",
       " ('DGX', 3639905),\n",
       " ('DHI', 18643665),\n",
       " ('DHR', 6042637),\n",
       " ('DIS', 30626382),\n",
       " ('DISCA', 3049741),\n",
       " ('DNB', 966595),\n",
       " ('DNR', 15233072),\n",
       " ('DO', 5672995),\n",
       " ('DOV', 3739110),\n",
       " ('DOW', 28972885),\n",
       " ('DPS', 6211298),\n",
       " ('DRI', 5777796),\n",
       " ('DTE', 3049388),\n",
       " ('DTV', 29101728),\n",
       " ('DUK', 20278890),\n",
       " ('DV', 2661421),\n",
       " ('DVA', 2364649),\n",
       " ('DVN', 10774056),\n",
       " ('DYN', 12132000),\n",
       " ('EBAY', 40640512),\n",
       " ('ECL', 4703857),\n",
       " ('ED', 4582893),\n",
       " ('EFX', 2705046),\n",
       " ('EIX', 5376053),\n",
       " ('EK', 22747925),\n",
       " ('EL', 4727544),\n",
       " ('EMC', 57953239),\n",
       " ('EMN', 2536487),\n",
       " ('EMR', 11405907),\n",
       " ('EOG', 6943126),\n",
       " ('EP', 22016194),\n",
       " ('EQR', 8613564),\n",
       " ('EQT', 3368552),\n",
       " ('ERTS', 17905388),\n",
       " ('ESRX', 7374463),\n",
       " ('ESV', 3098247),\n",
       " ('ETFC', 122969972),\n",
       " ('ETFCD', 927375),\n",
       " ('ETN', 4343231),\n",
       " ('ETR', 3268154),\n",
       " ('EXC', 11258312),\n",
       " ('EXPD', 4839400),\n",
       " ('EXPE', 11762769),\n",
       " ('F', 230212585),\n",
       " ('FAST', 3234018),\n",
       " ('FCX', 35813999),\n",
       " ('FDO', 8009684),\n",
       " ('FDX', 8130585),\n",
       " ('FE', 7312269),\n",
       " ('FHN', 7738884),\n",
       " ('FII', 3218162),\n",
       " ('FIS', 10623371),\n",
       " ('FISV', 3514883),\n",
       " ('FITB', 41739004),\n",
       " ('FLIR', 4548324),\n",
       " ('FLR', 7512466),\n",
       " ('FLS', 2260180),\n",
       " ('FMC', 1533302),\n",
       " ('FO', 2771927),\n",
       " ('FPL', 6275862),\n",
       " ('FRX', 8217385),\n",
       " ('FSLR', 4545560),\n",
       " ('FTI', 3967684),\n",
       " ('FTR', 16437799),\n",
       " ('GAS', 980420),\n",
       " ('GCI', 15642265),\n",
       " ('GD', 5160916),\n",
       " ('GE', 204452485),\n",
       " ('GENZ', 8898409),\n",
       " ('GILD', 26470839),\n",
       " ('GIS', 7887018),\n",
       " ('GLW', 38613936),\n",
       " ('GME', 13052442),\n",
       " ('GNW', 33828503),\n",
       " ('GOOG', 7512353),\n",
       " ('GPC', 2216049),\n",
       " ('GPS', 22935301),\n",
       " ('GR', 3467660),\n",
       " ('GS', 29759299),\n",
       " ('GT', 11470628),\n",
       " ('GWW', 1843775),\n",
       " ('HAL', 40658216),\n",
       " ('HAR', 2734916),\n",
       " ('HAS', 5243493),\n",
       " ('HBAN', 55540709),\n",
       " ('HCBK', 16271585),\n",
       " ('HCN', 4261976),\n",
       " ('HCP', 9232469),\n",
       " ('HD', 40600425),\n",
       " ('HES', 9368583),\n",
       " ('HIG', 22943646),\n",
       " ('HNZ', 6064606),\n",
       " ('HOG', 9901678),\n",
       " ('HON', 13703271),\n",
       " ('HOT', 8342518),\n",
       " ('HP', 2544172),\n",
       " ('HPQ', 41291216),\n",
       " ('HRB', 9854774),\n",
       " ('HRL', 1437683),\n",
       " ('HRS', 2688450),\n",
       " ('HSP', 2617406),\n",
       " ('HST', 27223247),\n",
       " ('HSY', 4344433),\n",
       " ('HUM', 5890544),\n",
       " ('IBM', 16835588),\n",
       " ('ICE', 2560089),\n",
       " ('IFF', 1337039),\n",
       " ('IGT', 11316569),\n",
       " ('INTC', 159979834),\n",
       " ('INTU', 8830003),\n",
       " ('IP', 16390494),\n",
       " ('IPG', 16475888),\n",
       " ('IRM', 3119889),\n",
       " ('ISRG', 1442724),\n",
       " ('ITT', 4000496),\n",
       " ('ITW', 8966292),\n",
       " ('IVZ', 10968193),\n",
       " ('JAVA', 15084797),\n",
       " ('JBL', 10247404),\n",
       " ('JCI', 13408929),\n",
       " ('JCP', 14322877),\n",
       " ('JDSU', 14373423),\n",
       " ('JEC', 4544134),\n",
       " ('JNJ', 30285011),\n",
       " ('JNPR', 18422230),\n",
       " ('JNS', 7932831),\n",
       " ('JPM', 99714792),\n",
       " ('JWN', 8902599),\n",
       " ('K', 5877054),\n",
       " ('KBH', 3880492),\n",
       " ('KEY', 43807257),\n",
       " ('KFT', 33041221),\n",
       " ('KG', 10714895),\n",
       " ('KIM', 17171955),\n",
       " ('KLAC', 9717092),\n",
       " ('KMB', 6915119),\n",
       " ('KMX', 2198799),\n",
       " ('KO', 26104110),\n",
       " ('KR', 22737230),\n",
       " ('KSS', 10348370),\n",
       " ('L', 5826280),\n",
       " ('LEG', 4048356),\n",
       " ('LEN', 15162617),\n",
       " ('LH', 2798229),\n",
       " ('LIFE', 4816235),\n",
       " ('LLL', 2424923),\n",
       " ('LLTC', 10254172),\n",
       " ('LLY', 17958247),\n",
       " ('LM', 6439797),\n",
       " ('LMT', 7140523),\n",
       " ('LNC', 11681528),\n",
       " ('LO', 3974104),\n",
       " ('LOW', 35253935),\n",
       " ('LSI', 23568018),\n",
       " ('LTD', 12698894),\n",
       " ('LUK', 2527671),\n",
       " ('LUV', 22270272),\n",
       " ('LXK', 5510442),\n",
       " ('M', 28214543),\n",
       " ('MA', 4291520),\n",
       " ('MAR', 10913461),\n",
       " ('MAS', 12512678),\n",
       " ('MAT', 11751434),\n",
       " ('MBI', 7563266),\n",
       " ('MCD', 18867123),\n",
       " ('MCHP', 7180339),\n",
       " ('MCK', 5940721),\n",
       " ('MCO', 10340617),\n",
       " ('MDP', 883227),\n",
       " ('MDT', 15414700),\n",
       " ('MEE', 13463838),\n",
       " ('MET', 17538275),\n",
       " ('MFE', 7587513),\n",
       " ('MHP', 7079285),\n",
       " ('MHS', 9426876),\n",
       " ('MI', 25292157),\n",
       " ('MIL', 2520109),\n",
       " ('MJN', 5026442),\n",
       " ('MKC', 1766940),\n",
       " ('MMC', 8747920),\n",
       " ('MMM', 9946553),\n",
       " ('MO', 39234188),\n",
       " ('MOLX', 3300773),\n",
       " ('MON', 17848449),\n",
       " ('MOT', 82005003),\n",
       " ('MRK', 40948151),\n",
       " ('MRO', 15563824),\n",
       " ('MS', 44806409),\n",
       " ('MSFT', 148263502),\n",
       " ('MTB', 2620978),\n",
       " ('MTW', 4291326),\n",
       " ('MU', 74875446),\n",
       " ('MUR', 4456326),\n",
       " ('MWV', 3854907),\n",
       " ('MWW', 6260196),\n",
       " ('MYL', 17653769),\n",
       " ('NBL', 4393369),\n",
       " ('NBR', 16038775),\n",
       " ('NDAQ', 6729445),\n",
       " ('NEE', 676138),\n",
       " ('NEM', 20770040),\n",
       " ('NI', 6569034),\n",
       " ('NKE', 7649607),\n",
       " ('NOC', 5312643),\n",
       " ('NOV', 13762278),\n",
       " ('NOVL', 12188805),\n",
       " ('NRG', 5245819),\n",
       " ('NSC', 7538956),\n",
       " ('NSM', 16373878),\n",
       " ('NTAP', 16557814),\n",
       " ('NTRS', 5176919),\n",
       " ('NU', 3291270),\n",
       " ('NUE', 11999840),\n",
       " ('NVDA', 44344226),\n",
       " ('NVLS', 7584584),\n",
       " ('NWL', 10757787),\n",
       " ('NWSA', 44836067),\n",
       " ('NYT', 5231054),\n",
       " ('NYX', 7520615),\n",
       " ('ODP', 17404794),\n",
       " ('OI', 5668338),\n",
       " ('OKE', 1161011),\n",
       " ('OMC', 6625833),\n",
       " ('ORCL', 72867456),\n",
       " ('ORLY', 4239954),\n",
       " ('OXY', 13104331),\n",
       " ('PAYX', 8445504),\n",
       " ('PBCT', 11241324),\n",
       " ('PBG', 2506159),\n",
       " ('PBI', 5059250),\n",
       " ('PCAR', 7423484),\n",
       " ('PCG', 5877007),\n",
       " ('PCL', 5007760),\n",
       " ('PCLN', 2717728),\n",
       " ('PCP', 2874461),\n",
       " ('PCS', 19442218),\n",
       " ('PDCO', 2567420),\n",
       " ('PEG', 7810685),\n",
       " ('PEP', 18108663),\n",
       " ('PFE', 141891968),\n",
       " ('PFG', 8588550),\n",
       " ('PG', 30221406),\n",
       " ('PGN', 4881109),\n",
       " ('PGR', 10259524),\n",
       " ('PH', 4176026),\n",
       " ('PHM', 19602048),\n",
       " ('PKI', 3649107),\n",
       " ('PLD', 24107729),\n",
       " ('PLL', 2469588),\n",
       " ('PM', 19881711),\n",
       " ('PNC', 13123441),\n",
       " ('PNW', 2513278),\n",
       " ('POM', 6191569),\n",
       " ('PPG', 3560081),\n",
       " ('PPL', 8674363),\n",
       " ('PRU', 10086144),\n",
       " ('PSA', 3662361),\n",
       " ('PTV', 6828233),\n",
       " ('PWR', 7021800),\n",
       " ('PX', 4648479),\n",
       " ('PXD', 4729825),\n",
       " ('Q', 72135628),\n",
       " ('QCOM', 52487735),\n",
       " ('QEP', 495238),\n",
       " ('QLGC', 6584480),\n",
       " ('R', 1985443),\n",
       " ('RAI', 3393260),\n",
       " ('RDC', 8652479),\n",
       " ('RF', 69684170),\n",
       " ('RHI', 3939027),\n",
       " ('RHT', 6305615),\n",
       " ('RL', 3033227),\n",
       " ('ROK', 3177939),\n",
       " ('ROP', 1390417),\n",
       " ('ROST', 4503282),\n",
       " ('RRC', 7655738),\n",
       " ('RRD', 5409234),\n",
       " ('RSG', 5681108),\n",
       " ('RSH', 9362031),\n",
       " ('RTN', 7014745),\n",
       " ('RX', 5268679),\n",
       " ('S', 146922025),\n",
       " ('SAI', 7212085),\n",
       " ('SBUX', 23569818),\n",
       " ('SCG', 1948727),\n",
       " ('SCHW', 30398540),\n",
       " ('SE', 8625259),\n",
       " ('SEE', 2845427),\n",
       " ('SGP', 6951881),\n",
       " ('SHLD', 3311024),\n",
       " ('SHW', 3378752),\n",
       " ('SIAL', 1905354),\n",
       " ('SII', 16430285),\n",
       " ('SJM', 2210096),\n",
       " ('SLB', 27577165),\n",
       " ('SLE', 19456110),\n",
       " ('SLM', 13306241),\n",
       " ('SNA', 1064985),\n",
       " ('SNDK', 24976035),\n",
       " ('SNI', 1872279),\n",
       " ('SO', 11198406),\n",
       " ('SPG', 7953817),\n",
       " ('SPLS', 20587901),\n",
       " ('SRCL', 1719904),\n",
       " ('SRE', 4575245),\n",
       " ('STI', 20096614),\n",
       " ('STJ', 8919707),\n",
       " ('STR', 4251628),\n",
       " ('STT', 13499417),\n",
       " ('STZ', 5107467),\n",
       " ('SUN', 7069497),\n",
       " ('SVU', 10066480),\n",
       " ('SWK', 4286023),\n",
       " ('SWN', 12295021),\n",
       " ('SWY', 14419552),\n",
       " ('SYK', 5392248),\n",
       " ('SYMC', 31547120),\n",
       " ('SYY', 9633698),\n",
       " ('T', 72663312),\n",
       " ('TAP', 3301169),\n",
       " ('TDC', 3922025),\n",
       " ('TE', 4700386),\n",
       " ('TEG', 1654609),\n",
       " ('TER', 14738485),\n",
       " ('TGT', 16763436),\n",
       " ('THC', 24419702),\n",
       " ('TIE', 8884222),\n",
       " ('TIF', 6137259),\n",
       " ('TJX', 12145501),\n",
       " ('TLAB', 22750367),\n",
       " ('TMK', 1857763),\n",
       " ('TMO', 9406828),\n",
       " ('TROW', 5205842),\n",
       " ('TRV', 11923283),\n",
       " ('TSN', 12029111),\n",
       " ('TSO', 14211843),\n",
       " ('TSS', 3604592),\n",
       " ('TWC', 6461890),\n",
       " ('TWX', 19917729),\n",
       " ('TXN', 37544223),\n",
       " ('TXT', 13539537),\n",
       " ('UNH', 28622008),\n",
       " ('UNM', 8932449),\n",
       " ('UNP', 9909622),\n",
       " ('UPS', 12239714),\n",
       " ('URBN', 4833037),\n",
       " ('USB', 34861756),\n",
       " ('UTX', 12163143),\n",
       " ('V', 13970362),\n",
       " ('VAR', 2795874),\n",
       " ('VFC', 2113630),\n",
       " ('VIA', 163084),\n",
       " ('VIA.B', 3034901),\n",
       " ('VLO', 27514119),\n",
       " ('VMC', 3319411),\n",
       " ('VNO', 5212380),\n",
       " ('VRSN', 10095195),\n",
       " ('VTR', 4760596),\n",
       " ('VZ', 47722257),\n",
       " ('WAG', 20752063),\n",
       " ('WAT', 2382132),\n",
       " ('WDC', 12456534),\n",
       " ('WEC', 2105539),\n",
       " ('WFC', 109991283),\n",
       " ('WFMI', 6619418),\n",
       " ('WFR', 15906800),\n",
       " ('WHR', 3981783),\n",
       " ('WIN', 12437293),\n",
       " ('WLP', 13431478),\n",
       " ('WM', 5956178),\n",
       " ('WMB', 15691661),\n",
       " ('WMT', 36872441),\n",
       " ('WPI', 2979294),\n",
       " ('WPO', 142063),\n",
       " ('WU', 17153290),\n",
       " ('WY', 6001290),\n",
       " ('WYE', 5511073),\n",
       " ('WYN', 6707713),\n",
       " ('WYNN', 7819520),\n",
       " ('X', 35908163),\n",
       " ('XEL', 6982177),\n",
       " ('XL', 12216026),\n",
       " ('XLNX', 16842047),\n",
       " ('XOM', 66633788),\n",
       " ('XRAY', 2709860),\n",
       " ('XRX', 41236860),\n",
       " ('XTO', 21297931),\n",
       " ('YHOO', 56837171),\n",
       " ('YUM', 10971538),\n",
       " ('ZION', 15551119),\n",
       " ('ZMH', 4938916)]"
      ]
     },
     "execution_count": 146,
     "metadata": {},
     "output_type": "execute_result"
    }
   ],
   "source": [
    "s = d['ticker']\n",
    "l = s.unique()\n",
    "s1 = [(i, d[\"volume\"][d['ticker'] == i].sum()) for i in l]\n",
    "s1"
   ]
  },
  {
   "cell_type": "markdown",
   "metadata": {},
   "source": [
    "5. Загрузите данные из файла sp500hst.txt и обозначьте столбцы в соответствии с содержимым: \"date\", \"ticker\", \"open\", \"high\", \"low\", \"close\", \"volume\". Добавьте столбец с расшифровкой названия тикера, используя данные из файла `sp_data2.csv` . В случае нехватки данных об именах тикеров корректно обработать их."
   ]
  },
  {
   "cell_type": "code",
   "execution_count": 206,
   "metadata": {
    "scrolled": true
   },
   "outputs": [
    {
     "data": {
      "text/html": [
       "<div>\n",
       "<style scoped>\n",
       "    .dataframe tbody tr th:only-of-type {\n",
       "        vertical-align: middle;\n",
       "    }\n",
       "\n",
       "    .dataframe tbody tr th {\n",
       "        vertical-align: top;\n",
       "    }\n",
       "\n",
       "    .dataframe thead th {\n",
       "        text-align: right;\n",
       "    }\n",
       "</style>\n",
       "<table border=\"1\" class=\"dataframe\">\n",
       "  <thead>\n",
       "    <tr style=\"text-align: right;\">\n",
       "      <th></th>\n",
       "      <th>date</th>\n",
       "      <th>ticker</th>\n",
       "      <th>open</th>\n",
       "      <th>high</th>\n",
       "      <th>low</th>\n",
       "      <th>close</th>\n",
       "      <th>volume</th>\n",
       "      <th>name</th>\n",
       "    </tr>\n",
       "  </thead>\n",
       "  <tbody>\n",
       "    <tr>\n",
       "      <th>0</th>\n",
       "      <td>20090821</td>\n",
       "      <td>AA</td>\n",
       "      <td>12.64</td>\n",
       "      <td>12.73</td>\n",
       "      <td>12.490</td>\n",
       "      <td>12.56</td>\n",
       "      <td>338295</td>\n",
       "      <td>NaN</td>\n",
       "    </tr>\n",
       "    <tr>\n",
       "      <th>1</th>\n",
       "      <td>20090821</td>\n",
       "      <td>AAPL</td>\n",
       "      <td>167.81</td>\n",
       "      <td>169.37</td>\n",
       "      <td>166.800</td>\n",
       "      <td>169.22</td>\n",
       "      <td>148597</td>\n",
       "      <td>NaN</td>\n",
       "    </tr>\n",
       "    <tr>\n",
       "      <th>2</th>\n",
       "      <td>20090821</td>\n",
       "      <td>ABC</td>\n",
       "      <td>21.14</td>\n",
       "      <td>21.25</td>\n",
       "      <td>20.900</td>\n",
       "      <td>21.05</td>\n",
       "      <td>33179</td>\n",
       "      <td>AmerisourceBergen</td>\n",
       "    </tr>\n",
       "    <tr>\n",
       "      <th>3</th>\n",
       "      <td>20090821</td>\n",
       "      <td>ABT</td>\n",
       "      <td>45.58</td>\n",
       "      <td>46.00</td>\n",
       "      <td>45.315</td>\n",
       "      <td>45.39</td>\n",
       "      <td>84699</td>\n",
       "      <td>Abbott Laboratories</td>\n",
       "    </tr>\n",
       "    <tr>\n",
       "      <th>4</th>\n",
       "      <td>20090821</td>\n",
       "      <td>ACS</td>\n",
       "      <td>45.08</td>\n",
       "      <td>45.33</td>\n",
       "      <td>44.400</td>\n",
       "      <td>45.32</td>\n",
       "      <td>17241</td>\n",
       "      <td>NaN</td>\n",
       "    </tr>\n",
       "    <tr>\n",
       "      <th>...</th>\n",
       "      <td>...</td>\n",
       "      <td>...</td>\n",
       "      <td>...</td>\n",
       "      <td>...</td>\n",
       "      <td>...</td>\n",
       "      <td>...</td>\n",
       "      <td>...</td>\n",
       "      <td>...</td>\n",
       "    </tr>\n",
       "    <tr>\n",
       "      <th>122568</th>\n",
       "      <td>20100820</td>\n",
       "      <td>XRX</td>\n",
       "      <td>8.91</td>\n",
       "      <td>9.07</td>\n",
       "      <td>8.850</td>\n",
       "      <td>8.97</td>\n",
       "      <td>98025</td>\n",
       "      <td>Xerox</td>\n",
       "    </tr>\n",
       "    <tr>\n",
       "      <th>122569</th>\n",
       "      <td>20100820</td>\n",
       "      <td>YHOO</td>\n",
       "      <td>13.83</td>\n",
       "      <td>13.95</td>\n",
       "      <td>13.740</td>\n",
       "      <td>13.79</td>\n",
       "      <td>171927</td>\n",
       "      <td>NaN</td>\n",
       "    </tr>\n",
       "    <tr>\n",
       "      <th>122570</th>\n",
       "      <td>20100820</td>\n",
       "      <td>YUM</td>\n",
       "      <td>41.55</td>\n",
       "      <td>42.40</td>\n",
       "      <td>41.550</td>\n",
       "      <td>42.32</td>\n",
       "      <td>25347</td>\n",
       "      <td>Yum Brands</td>\n",
       "    </tr>\n",
       "    <tr>\n",
       "      <th>122571</th>\n",
       "      <td>20100820</td>\n",
       "      <td>ZION</td>\n",
       "      <td>19.15</td>\n",
       "      <td>19.27</td>\n",
       "      <td>18.810</td>\n",
       "      <td>19.14</td>\n",
       "      <td>37225</td>\n",
       "      <td>Zions Bancorp</td>\n",
       "    </tr>\n",
       "    <tr>\n",
       "      <th>122572</th>\n",
       "      <td>20100820</td>\n",
       "      <td>ZMH</td>\n",
       "      <td>50.03</td>\n",
       "      <td>50.55</td>\n",
       "      <td>49.480</td>\n",
       "      <td>49.82</td>\n",
       "      <td>17792</td>\n",
       "      <td>NaN</td>\n",
       "    </tr>\n",
       "  </tbody>\n",
       "</table>\n",
       "<p>122573 rows × 8 columns</p>\n",
       "</div>"
      ],
      "text/plain": [
       "            date ticker    open    high      low   close  volume  \\\n",
       "0       20090821     AA   12.64   12.73   12.490   12.56  338295   \n",
       "1       20090821   AAPL  167.81  169.37  166.800  169.22  148597   \n",
       "2       20090821    ABC   21.14   21.25   20.900   21.05   33179   \n",
       "3       20090821    ABT   45.58   46.00   45.315   45.39   84699   \n",
       "4       20090821    ACS   45.08   45.33   44.400   45.32   17241   \n",
       "...          ...    ...     ...     ...      ...     ...     ...   \n",
       "122568  20100820    XRX    8.91    9.07    8.850    8.97   98025   \n",
       "122569  20100820   YHOO   13.83   13.95   13.740   13.79  171927   \n",
       "122570  20100820    YUM   41.55   42.40   41.550   42.32   25347   \n",
       "122571  20100820   ZION   19.15   19.27   18.810   19.14   37225   \n",
       "122572  20100820    ZMH   50.03   50.55   49.480   49.82   17792   \n",
       "\n",
       "                       name  \n",
       "0                       NaN  \n",
       "1                       NaN  \n",
       "2         AmerisourceBergen  \n",
       "3       Abbott Laboratories  \n",
       "4                       NaN  \n",
       "...                     ...  \n",
       "122568                Xerox  \n",
       "122569                  NaN  \n",
       "122570           Yum Brands  \n",
       "122571        Zions Bancorp  \n",
       "122572                  NaN  \n",
       "\n",
       "[122573 rows x 8 columns]"
      ]
     },
     "execution_count": 206,
     "metadata": {},
     "output_type": "execute_result"
    }
   ],
   "source": [
    "import pandas as pd\n",
    "d1 = pd.read_csv(\"sp500hst.txt\")\n",
    "d1.columns = [\"date\", \"ticker\", \"open\", \"high\", \"low\", \"close\", \"volume\"]\n",
    "n1 = pd.read_csv(\"sp_data2.csv\", sep=\";\", header = None)\n",
    "n1.columns = [\"ticker\", \"name\", \"pr\"]\n",
    "d2 = pd.merge_ordered(d1,n1.loc[:,\"ticker\":\"name\"],fill_method=None, how=\"left\")\n",
    "d3 = pd.merge_ordered(d1,d2)\n",
    "d3"
   ]
  },
  {
   "cell_type": "markdown",
   "metadata": {},
   "source": [
    "## Лабораторная работа №2"
   ]
  },
  {
   "cell_type": "markdown",
   "metadata": {},
   "source": [
    "### Базовые операции с `DataFrame`"
   ]
  },
  {
   "cell_type": "markdown",
   "metadata": {},
   "source": [
    "1.1 В файлах `recipes_sample.csv` и `reviews_sample.csv` находится информация об рецептах блюд и отзывах на эти рецепты соответственно. Загрузите данные из файлов в виде `pd.DataFrame` с названиями `recipes` и `reviews`. Обратите внимание на корректное считывание столбца с индексами в таблице `reviews` (безымянный столбец)."
   ]
  },
  {
   "cell_type": "code",
   "execution_count": null,
   "metadata": {},
   "outputs": [],
   "source": [
    "recipes = pd.read_csv('data/recipes_sample.csv', parse_dates=['submitted'])\n",
    "reviews = pd.read_csv('data/reviews_sample.csv', index_col=0)\n",
    "print(reviews)\n",
    "recipes"
   ]
  },
  {
   "cell_type": "markdown",
   "metadata": {},
   "source": [
    "1.2 Для каждой из таблиц выведите основные параметры:\n",
    "* количество точек данных (строк);\n",
    "* количество столбцов;\n",
    "* тип данных каждого столбца."
   ]
  },
  {
   "cell_type": "code",
   "execution_count": null,
   "metadata": {},
   "outputs": [],
   "source": [
    "reviews_shape = reviews.shape\n",
    "recipes_shape = recipes.shape\n",
    "print(f'Отзывы: {reviews_shape[0]} строк и {reviews_shape[1]} столбцов')\n",
    "print(f'Рецепты: {recipes_shape[0]} строк и {recipes_shape[1]} столбцов')\n",
    "print('Отзывы:')\n",
    "print(reviews.dtypes)\n",
    "print('Рецепты: ')\n",
    "recipes.dtypes"
   ]
  },
  {
   "cell_type": "markdown",
   "metadata": {},
   "source": [
    "1.3 Исследуйте, в каких столбцах таблиц содержатся пропуски. Посчитайте долю строк, содержащих пропуски, в отношении к общему количеству строк."
   ]
  },
  {
   "cell_type": "code",
   "execution_count": null,
   "metadata": {},
   "outputs": [],
   "source": [
    "print(recipes.isnull().any())\n",
    "print()\n",
    "print(reviews.isnull().any())\n",
    "print()\n",
    "print(recipes.isnull().sum()/recipes.shape[0])\n",
    "print()\n",
    "print(reviews.isnull().sum()/reviews.shape[0])"
   ]
  },
  {
   "cell_type": "markdown",
   "metadata": {},
   "source": [
    "1.4 Рассчитайте среднее значение для каждого из числовых столбцов (где это имеет смысл)."
   ]
  },
  {
   "cell_type": "code",
   "execution_count": null,
   "metadata": {},
   "outputs": [],
   "source": [
    "print(f'rating: {reviews[\"rating\"].mean(numeric_only=True)}')\n",
    "print()\n",
    "print(recipes[['minutes','n_steps','n_ingredients']].mean(numeric_only=True))"
   ]
  },
  {
   "cell_type": "markdown",
   "metadata": {},
   "source": [
    "1.5 Создайте серию из 10 случайных названий рецептов."
   ]
  },
  {
   "cell_type": "code",
   "execution_count": null,
   "metadata": {},
   "outputs": [],
   "source": [
    "s = recipes.sample(10).loc [:, 'name'] \n",
    "for el in s:\n",
    "    print(el)"
   ]
  },
  {
   "cell_type": "markdown",
   "metadata": {},
   "source": [
    "1.6 Измените индекс в таблице `reviews`, пронумеровав строки, начиная с нуля."
   ]
  },
  {
   "cell_type": "code",
   "execution_count": null,
   "metadata": {},
   "outputs": [],
   "source": [
    "reviews.reset_index(drop=True, inplace=True)\n",
    "reviews"
   ]
  },
  {
   "cell_type": "markdown",
   "metadata": {},
   "source": [
    "1.7 Выведите информацию о рецептах, время выполнения которых не больше 20 минут и кол-во ингредиентов в которых не больше 5."
   ]
  },
  {
   "cell_type": "code",
   "execution_count": null,
   "metadata": {},
   "outputs": [],
   "source": [
    "recipes.loc[((recipes['minutes'] <=20) & (recipes['n_ingredients' ] <=5))]"
   ]
  },
  {
   "cell_type": "markdown",
   "metadata": {},
   "source": [
    "### Работа с датами в `pandas`"
   ]
  },
  {
   "cell_type": "markdown",
   "metadata": {},
   "source": [
    "2.1 Преобразуйте столбец `submitted` из таблицы `recipes` в формат времени. Модифицируйте решение задачи 1.1 так, чтобы считать столбец сразу в нужном формате."
   ]
  },
  {
   "cell_type": "code",
   "execution_count": null,
   "metadata": {},
   "outputs": [],
   "source": [
    "recipes.loc[(recipes['submitted'].dt.year <=2010)]"
   ]
  },
  {
   "cell_type": "markdown",
   "metadata": {},
   "source": [
    "2.2 Выведите информацию о рецептах, добавленных в датасет не позже 2010 года."
   ]
  },
  {
   "cell_type": "code",
   "execution_count": null,
   "metadata": {},
   "outputs": [],
   "source": [
    "recipes['description_length'] = recipes.loc [:,'description'].str.len()\n",
    "recipes"
   ]
  },
  {
   "cell_type": "markdown",
   "metadata": {},
   "source": [
    "### Работа со строковыми данными в `pandas`"
   ]
  },
  {
   "cell_type": "markdown",
   "metadata": {},
   "source": [
    "3.1  Добавьте в таблицу `recipes` столбец `description_length`, в котором хранится длина описания рецепта из столбца `description`."
   ]
  },
  {
   "cell_type": "code",
   "execution_count": null,
   "metadata": {},
   "outputs": [],
   "source": [
    "recipes['description_length'] = recipes.loc [:,'description'].str.len()\n",
    "recipes"
   ]
  },
  {
   "cell_type": "markdown",
   "metadata": {},
   "source": [
    "3.2 Измените название каждого рецепта в таблице `recipes` таким образом, чтобы каждое слово в названии начиналось с прописной буквы."
   ]
  },
  {
   "cell_type": "code",
   "execution_count": null,
   "metadata": {},
   "outputs": [],
   "source": [
    "recipes.loc[:,'name'] = recipes.loc[:,'name'].apply(lambda x:x.title())\n",
    "recipes"
   ]
  },
  {
   "cell_type": "markdown",
   "metadata": {},
   "source": [
    "3.3 Добавьте в таблицу `recipes` столбец `name_word_count`, в котором хранится количество слов из названии рецепта (считайте, что слова в названии разделяются только пробелами). Обратите внимание, что между словами может располагаться несколько пробелов подряд."
   ]
  },
  {
   "cell_type": "code",
   "execution_count": null,
   "metadata": {},
   "outputs": [],
   "source": [
    "recipes['name_word_count'] = recipes.loc[:,'name'].apply(lambda x:len(x.split()))\n",
    "recipes"
   ]
  },
  {
   "cell_type": "markdown",
   "metadata": {},
   "source": [
    "### Группировки таблиц `pd.DataFrame`"
   ]
  },
  {
   "cell_type": "markdown",
   "metadata": {},
   "source": [
    "4.1 Посчитайте количество рецептов, представленных каждым из участников (`contributor_id`). Какой участник добавил максимальное кол-во рецептов?"
   ]
  },
  {
   "cell_type": "code",
   "execution_count": null,
   "metadata": {},
   "outputs": [],
   "source": [
    "contributors = recipes.loc [:,'contributor_id'].unique()\n",
    "d = dict()\n",
    "for i in contributors:\n",
    "    d[i] = len(recipes[recipes['contributor_id'] == i])\n",
    "max(d.items(), key=lambda x: x[1])"
   ]
  },
  {
   "cell_type": "markdown",
   "metadata": {},
   "source": [
    "4.2 Посчитайте средний рейтинг к каждому из рецептов. Для скольких рецептов отсутствуют отзывы? Обратите внимание, что отзыв с нулевым рейтингом или не заполненным текстовым описанием не считается отсутствующим."
   ]
  },
  {
   "cell_type": "code",
   "execution_count": null,
   "metadata": {},
   "outputs": [],
   "source": [
    "avg_rating_per_recipe = reviews.groupby('recipe_id')['rating'].mean()\n",
    "recipes_without_reviews = avg_rating_per_recipe.isna()\n",
    "recipes_without_reviews"
   ]
  },
  {
   "cell_type": "markdown",
   "metadata": {},
   "source": [
    "4.3 Посчитайте количество рецептов с разбивкой по годам создания."
   ]
  },
  {
   "cell_type": "code",
   "execution_count": null,
   "metadata": {},
   "outputs": [],
   "source": [
    "r = recipes.loc [:, 'submitted'].dt.year.unique()\n",
    "d = dict()\n",
    "for i in r:\n",
    "    d[i] = len(recipes[recipes['submitted'].dt.year == i])\n",
    "d"
   ]
  },
  {
   "cell_type": "markdown",
   "metadata": {},
   "source": [
    "### Объединение таблиц `pd.DataFrame`"
   ]
  },
  {
   "cell_type": "markdown",
   "metadata": {},
   "source": [
    "5.1 При помощи объединения таблиц, создайте `DataFrame`, состоящий из четырех столбцов: `id`, `name`, `user_id`, `rating`. Рецепты, на которые не оставлен ни один отзыв, должны отсутствовать в полученной таблице. Подтвердите правильность работы вашего кода, выбрав рецепт, не имеющий отзывов, и попытавшись найти строку, соответствующую этому рецепту, в полученном `DataFrame`."
   ]
  },
  {
   "cell_type": "code",
   "execution_count": null,
   "metadata": {},
   "outputs": [],
   "source": [
    "df = pd.merge(recipes, reviews, left_on='id', right_on='recipe_id', how='left')\n",
    "df1 = df.dropna(subset=['review'])\n",
    "df1 = df1[['id', 'name', 'user_id', 'rating']]\n",
    "df1.info()"
   ]
  },
  {
   "cell_type": "markdown",
   "metadata": {},
   "source": [
    "5.2 При помощи объединения таблиц и группировок, создайте `DataFrame`, состоящий из трех столбцов: `recipe_id`, `name`, `review_count`, где столбец `review_count` содержит кол-во отзывов, оставленных на рецепт `recipe_id`. У рецептов, на которые не оставлен ни один отзыв, в столбце `review_count` должен быть указан 0. Подтвердите правильность работы вашего кода, выбрав рецепт, не имеющий отзывов, и найдя строку, соответствующую этому рецепту, в полученном `DataFrame`."
   ]
  },
  {
   "cell_type": "code",
   "execution_count": null,
   "metadata": {},
   "outputs": [],
   "source": [
    "print(len(df['recipe_id'].unique()))\n",
    "df2 = df.groupby(['recipe_id', 'name']).size().reset_index(name='review_count')\n",
    "print(df2.shape)\n",
    "print(df2[df2['review_count'] == 0])"
   ]
  },
  {
   "cell_type": "markdown",
   "metadata": {},
   "source": [
    "5.3. Выясните, рецепты, добавленные в каком году, имеют наименьший средний рейтинг?"
   ]
  },
  {
   "cell_type": "code",
   "execution_count": null,
   "metadata": {},
   "outputs": [],
   "source": [
    "df['year'] = df['submitted'].dt.year\n",
    "rating_by_year = df.groupby('year')['rating'].mean().reset_index()\n",
    "min_rating_by_year = rating_by_year.loc[rating_by_year['rating'].idxmin()]\n",
    "min_rating_by_year"
   ]
  },
  {
   "cell_type": "markdown",
   "metadata": {},
   "source": [
    "### Сохранение таблиц `pd.DataFrame`"
   ]
  },
  {
   "cell_type": "markdown",
   "metadata": {},
   "source": [
    "6.1 Отсортируйте таблицу в порядке убывания величины столбца `name_word_count` и сохраните результаты выполнения заданий 3.1-3.3 в csv файл. "
   ]
  },
  {
   "cell_type": "code",
   "execution_count": null,
   "metadata": {},
   "outputs": [],
   "source": [
    "recipes = recipes.sort_values('name_word_count')\n",
    "recipes[['description_length', 'name', 'name_word_count']].to_csv('output6-1.csv')"
   ]
  },
  {
   "cell_type": "markdown",
   "metadata": {},
   "source": [
    "6.2 Воспользовавшись `pd.ExcelWriter`, cохраните результаты 5.1 и 5.2 в файл: на лист с названием `Рецепты с оценками` сохраните результаты выполнения 5.1; на лист с названием `Количество отзывов по рецептам` сохраните результаты выполнения 5.2."
   ]
  },
  {
   "cell_type": "code",
   "execution_count": null,
   "metadata": {},
   "outputs": [],
   "source": [
    "with pd.ExcelWriter('recipes_and_reviews.xlsx') as writer:\n",
    "    df1.to_excel(writer, sheet_name='Рецепты с оценками', index=False)\n",
    "    df2.to_excel(writer, sheet_name='Количество отзывов по рецептам', index=False)"
   ]
  },
  {
   "cell_type": "code",
   "execution_count": null,
   "metadata": {},
   "outputs": [],
   "source": []
  },
  {
   "cell_type": "markdown",
   "metadata": {},
   "source": [
    "#### [версия 2]\n",
    "* Уточнены формулировки задач 1.1, 3.3, 4.2, 5.1, 5.2, 5.3"
   ]
  },
  {
   "cell_type": "code",
   "execution_count": null,
   "metadata": {},
   "outputs": [],
   "source": []
  }
 ],
 "metadata": {
  "kernelspec": {
   "display_name": "Python 3 (ipykernel)",
   "language": "python",
   "name": "python3"
  },
  "language_info": {
   "codemirror_mode": {
    "name": "ipython",
    "version": 3
   },
   "file_extension": ".py",
   "mimetype": "text/x-python",
   "name": "python",
   "nbconvert_exporter": "python",
   "pygments_lexer": "ipython3",
   "version": "3.11.0"
  }
 },
 "nbformat": 4,
 "nbformat_minor": 4
}
