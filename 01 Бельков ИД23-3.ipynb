{
 "cells": [
  {
   "cell_type": "markdown",
   "metadata": {},
   "source": [
    "# Numpy"
   ]
  },
  {
   "cell_type": "markdown",
   "metadata": {},
   "source": [
    "Материалы:\n",
    "* Макрушин С.В. \"Лекция 1: Библиотека Numpy\"\n",
    "* https://numpy.org/doc/stable/user/index.html\n",
    "* https://numpy.org/doc/stable/reference/index.html"
   ]
  },
  {
   "cell_type": "markdown",
   "metadata": {},
   "source": [
    "## Задачи для совместного разбора"
   ]
  },
  {
   "cell_type": "markdown",
   "metadata": {},
   "source": [
    "1. Сгенерировать двухмерный массив `arr` размерности (4, 7), состоящий из случайных действительных чисел, равномерно распределенных в диапазоне от 0 до 20. Нормализовать значения массива с помощью преобразования вида  $𝑎𝑥+𝑏$  так, что после нормализации максимальный элемент масcива будет равен 1.0, минимальный 0.0"
   ]
  },
  {
   "cell_type": "code",
   "execution_count": 52,
   "metadata": {},
   "outputs": [
    {
     "name": "stdout",
     "output_type": "stream",
     "text": [
      "[[17.18453647 30.9407627   7.58481247  6.05500801 13.00630852 21.96547861\n",
      "  31.31249684]\n",
      " [ 3.66762476 -1.61781372 10.88180444 -0.89385945 13.26276171  3.36947233\n",
      "  21.51681595]\n",
      " [29.04989412 -4.13386766  9.73595597 15.01022291  5.24987294 14.40837217\n",
      "  22.19443151]\n",
      " [ 3.70122561 -6.64673845 -3.05162995 15.49929232 13.80131374 18.75726647\n",
      "   4.44026514]]\n",
      "\n",
      " [[0.54666628 0.69740176 0.44147617 0.42471316 0.50088286 0.59905402\n",
      "  0.70147508]\n",
      " [0.39855313 0.34063731 0.47760335 0.34857012 0.50369297 0.39528609\n",
      "  0.59413775]\n",
      " [0.67668234 0.31306735 0.46504758 0.52284099 0.4158908  0.51624614\n",
      "  0.6015628 ]\n",
      " [0.39892131 0.28553227 0.3249261  0.52820002 0.50959422 0.56389966\n",
      "  0.40701942]]\n"
     ]
    }
   ],
   "source": [
    "import numpy as np\n",
    "d = np.random.normal(10,10,(4,7))\n",
    "print(d)\n",
    "for i in range(d.shape[0]):\n",
    "    for j in range(d.shape[1]):\n",
    "        d[i][j] = (d[i][j] - mn) / (mx-mn)\n",
    "print('\\n',d)"
   ]
  },
  {
   "cell_type": "markdown",
   "metadata": {},
   "source": [
    "2. Создать матрицу 8 на 10 из случайных целых (используя модуль `numpy.random`) чисел из диапозона от 0 до 10 и найти в ней строку (ее индекс и вывести саму строку), в которой сумма значений минимальна."
   ]
  },
  {
   "cell_type": "code",
   "execution_count": 82,
   "metadata": {},
   "outputs": [
    {
     "name": "stdout",
     "output_type": "stream",
     "text": [
      "[[2 9 9 6 2 5 6 5 6 0]\n",
      " [4 2 0 0 1 0 7 5 6 4]\n",
      " [8 1 2 7 6 4 8 1 2 3]\n",
      " [4 3 0 9 5 9 1 3 1 7]\n",
      " [5 4 7 8 9 7 0 4 3 9]\n",
      " [8 3 1 6 6 3 1 1 9 2]\n",
      " [1 1 4 0 4 1 1 2 2 9]\n",
      " [4 8 8 6 1 8 6 9 4 0]] \n",
      "\n",
      "25 6 [4 8 8 6 1 8 6 9 4 0]\n"
     ]
    }
   ],
   "source": [
    "d = np.random.randint(low=10,size=(8,10))\n",
    "print(d,'\\n')\n",
    "mn = 10000\n",
    "mni = 0\n",
    "for i in range(8):\n",
    "    if sum(d[i]) <= mn:\n",
    "        mn = sum(d[i])\n",
    "        mni = i\n",
    "print(mn,mni,d[i])"
   ]
  },
  {
   "cell_type": "markdown",
   "metadata": {},
   "source": [
    "3. Найти евклидово расстояние между двумя одномерными векторами одинаковой размерности."
   ]
  },
  {
   "cell_type": "code",
   "execution_count": 93,
   "metadata": {},
   "outputs": [
    {
     "name": "stdout",
     "output_type": "stream",
     "text": [
      "[44  6] [70 67]\n",
      "66.30987860040162\n"
     ]
    }
   ],
   "source": [
    "u = np.random.randint(low = 100, size=(1,2))[0]\n",
    "v = np.random.randint(low = 100, size=(1,2))[0]\n",
    "print(u,v)\n",
    "print(((u[0]-v[0])**2 +(u[1]-v[1])**2)**0.5)"
   ]
  },
  {
   "cell_type": "markdown",
   "metadata": {},
   "source": [
    "4. Решить матричное уравнение `A*X*B=-C` - найти матрицу `X`. Где `A = [[-1, 2, 4], [-3, 1, 2], [-3, 0, 1]]`, `B=[[3, -1], [2, 1]]`, `C=[[7, 21], [11, 8], [8, 4]]`."
   ]
  },
  {
   "cell_type": "code",
   "execution_count": 103,
   "metadata": {},
   "outputs": [
    {
     "name": "stdout",
     "output_type": "stream",
     "text": [
      "[[ -7 -21]\n",
      " [-11  -8]\n",
      " [ -8  -4]]\n",
      "[[ 1.00000000e+00  5.32907052e-16]\n",
      " [-2.00000000e+00  1.00000000e+00]\n",
      " [ 3.00000000e+00 -4.00000000e+00]]\n"
     ]
    }
   ],
   "source": [
    "A = np.array([[-1, 2, 4], [-3, 1, 2], [-3, 0, 1]])\n",
    "B=np.array([[3, -1], [2, 1]])\n",
    "C=np.array([[7, 21], [11, 8], [8, 4]])\n",
    "#X = A-1*(-C) * B-1\n",
    "X = np.linalg.inv(A) @ (-C) @  np.linalg.inv(B)\n",
    "print(X)"
   ]
  },
  {
   "cell_type": "markdown",
   "metadata": {},
   "source": [
    "## Лабораторная работа №1"
   ]
  },
  {
   "cell_type": "markdown",
   "metadata": {},
   "source": [
    "Замечание: при решении данных задач не подразумевается использования циклов или генераторов Python, если в задании не сказано обратного. Решение должно опираться на использования функционала библиотеки `numpy`."
   ]
  },
  {
   "cell_type": "markdown",
   "metadata": {},
   "source": [
    "1. Файл `minutes_n_ingredients.csv` содержит информацию об идентификаторе рецепта, времени его выполнения в минутах и количестве необходимых ингредиентов. Считайте данные из этого файла в виде массива `numpy` типа `int32`, используя `np.loadtxt`. Выведите на экран первые 5 строк массива."
   ]
  },
  {
   "cell_type": "code",
   "execution_count": 254,
   "metadata": {},
   "outputs": [
    {
     "name": "stdout",
     "output_type": "stream",
     "text": [
      "[[127244     60     16]\n",
      " [ 23891     25      7]\n",
      " [ 94746     10      6]\n",
      " [ 67660      5      6]\n",
      " [157911     60     14]]\n"
     ]
    }
   ],
   "source": [
    "d = np.loadtxt(\"minutes_n_ingredients.csv\", dtype=\"int32\",delimiter=\",\",skiprows=1)\n",
    "print(d[:5])"
   ]
  },
  {
   "cell_type": "markdown",
   "metadata": {},
   "source": [
    "2. Вычислите среднее значение, минимум, максимум и медиану по каждому из столбцов, кроме первого."
   ]
  },
  {
   "cell_type": "code",
   "execution_count": 255,
   "metadata": {},
   "outputs": [
    {
     "name": "stdout",
     "output_type": "stream",
     "text": [
      "Срзнач 21601.00169 Мин 0 Макс 2147483647 Медиана 40.0\n",
      "Срзнач 9.05528 Мин 1 Макс 39 Медиана 9.0\n"
     ]
    }
   ],
   "source": [
    "a = d[:,1]\n",
    "print(\"Срзнач\", np.mean(a), \"Мин\", min(a), \"Макс\", max(a), \"Медиана\", np.median(a)) \n",
    "a = d[:,2]\n",
    "print(\"Срзнач\", np.mean(a), \"Мин\", min(a), \"Макс\", max(a), \"Медиана\", np.median(a))"
   ]
  },
  {
   "cell_type": "markdown",
   "metadata": {},
   "source": [
    "3. Ограничьте сверху значения продолжительности выполнения рецепта значением квантиля $q_{0.75}$. "
   ]
  },
  {
   "cell_type": "code",
   "execution_count": 278,
   "metadata": {},
   "outputs": [
    {
     "name": "stdout",
     "output_type": "stream",
     "text": [
      "11.0\n",
      "[[ 94746     10      6]\n",
      " [ 67660      5      6]\n",
      " [366174      7      9]\n",
      " ...\n",
      " [420725      5      3]\n",
      " [  4747      0      9]\n",
      " [370915      5      4]]\n"
     ]
    }
   ],
   "source": [
    "q = np.quantile(a, 0.75)\n",
    "d = d[d[:,1] <= q]\n",
    "print(q)\n",
    "print(d)"
   ]
  },
  {
   "cell_type": "markdown",
   "metadata": {},
   "source": [
    "4. Посчитайте, для скольких рецептов указана продолжительность, равная нулю. Замените для таких строк значение в данном столбце на 1."
   ]
  },
  {
   "cell_type": "code",
   "execution_count": 279,
   "metadata": {},
   "outputs": [
    {
     "name": "stdout",
     "output_type": "stream",
     "text": [
      "Кол-во рецептов с продолжительностью ноль 479\n"
     ]
    }
   ],
   "source": [
    "print(\"Кол-во рецептов с продолжительностью ноль\",np.count_nonzero(d[:,1]==0))\n",
    "d[:,1][d[:,1] == 0] = 1"
   ]
  },
  {
   "cell_type": "markdown",
   "metadata": {},
   "source": [
    "5. Посчитайте, сколько уникальных рецептов находится в датасете."
   ]
  },
  {
   "cell_type": "code",
   "execution_count": 280,
   "metadata": {},
   "outputs": [
    {
     "name": "stdout",
     "output_type": "stream",
     "text": [
      "12687\n"
     ]
    }
   ],
   "source": [
    "print(len(np.unique(d,axis=0)))"
   ]
  },
  {
   "cell_type": "markdown",
   "metadata": {},
   "source": [
    "6. Сколько и каких различных значений кол-ва ингредиентов присутвует в рецептах из датасета?"
   ]
  },
  {
   "cell_type": "code",
   "execution_count": 281,
   "metadata": {},
   "outputs": [
    {
     "name": "stdout",
     "output_type": "stream",
     "text": [
      "27\n",
      "[ 1  2  3  4  5  6  7  8  9 10 11 12 13 14 15 16 17 18 19 20 21 22 23 24\n",
      " 25 28 29]\n"
     ]
    }
   ],
   "source": [
    "print(len(np.unique(d[:,2])))\n",
    "print(np.unique(d[:,2]))"
   ]
  },
  {
   "cell_type": "markdown",
   "metadata": {},
   "source": [
    "7. Создайте версию массива, содержащую информацию только о рецептах, состоящих не более чем из 5 ингредиентов."
   ]
  },
  {
   "cell_type": "code",
   "execution_count": 260,
   "metadata": {},
   "outputs": [
    {
     "name": "stdout",
     "output_type": "stream",
     "text": [
      "[[204134      5      3]\n",
      " [ 25623      6      4]\n",
      " [ 66842      2      4]\n",
      " ...\n",
      " [ 77371      6      3]\n",
      " [420725      5      3]\n",
      " [370915      5      4]]\n"
     ]
    }
   ],
   "source": [
    "d2 = d[d[:,2]<= 5]\n",
    "print(d2)"
   ]
  },
  {
   "cell_type": "markdown",
   "metadata": {},
   "source": [
    "8. Для каждого рецепта посчитайте, сколько в среднем ингредиентов приходится на одну минуту рецепта. Найдите максимальное значение этой величины для всего датасета"
   ]
  },
  {
   "cell_type": "code",
   "execution_count": 261,
   "metadata": {},
   "outputs": [
    {
     "name": "stdout",
     "output_type": "stream",
     "text": [
      "24.0\n"
     ]
    }
   ],
   "source": [
    "sr = d[:,2] / d[:,1]\n",
    "print(np.max(sr))"
   ]
  },
  {
   "cell_type": "markdown",
   "metadata": {},
   "source": [
    "9. Вычислите среднее количество ингредиентов для топ-100 рецептов с наибольшей продолжительностью"
   ]
  },
  {
   "cell_type": "code",
   "execution_count": 276,
   "metadata": {},
   "outputs": [
    {
     "name": "stdout",
     "output_type": "stream",
     "text": [
      "6.61\n"
     ]
    }
   ],
   "source": [
    "d = np.loadtxt(\"minutes_n_ingredients.csv\", dtype=\"int32\",delimiter=\",\",skiprows=1)\n",
    "sr100 = (d[d[:, 1].argsort()])[-100:]\n",
    "print(sum(sr100[:,2]) / 100)"
   ]
  },
  {
   "cell_type": "markdown",
   "metadata": {},
   "source": [
    "10. Выберите случайным образом и выведите информацию о 10 различных рецептах"
   ]
  },
  {
   "cell_type": "code",
   "execution_count": 268,
   "metadata": {},
   "outputs": [
    {
     "name": "stdout",
     "output_type": "stream",
     "text": [
      "[[164929     10      6]\n",
      " [  4657      1     11]\n",
      " [240394      4      7]\n",
      " [258932      5      5]\n",
      " [115685     10      6]\n",
      " [ 56203     10      5]\n",
      " [478941      5      5]\n",
      " [188187      5      4]\n",
      " [177260     10      6]\n",
      " [ 47435      9      5]]\n"
     ]
    }
   ],
   "source": [
    "rows = np.random.randint(len(d), size=10)\n",
    "print(d[rows,:])"
   ]
  },
  {
   "cell_type": "markdown",
   "metadata": {},
   "source": [
    "11. Выведите процент рецептов, кол-во ингредиентов в которых меньше среднего."
   ]
  },
  {
   "cell_type": "code",
   "execution_count": 275,
   "metadata": {},
   "outputs": [
    {
     "name": "stdout",
     "output_type": "stream",
     "text": [
      "0.58802\n"
     ]
    }
   ],
   "source": [
    "d = np.loadtxt(\"minutes_n_ingredients.csv\", dtype=\"int32\",delimiter=\",\",skiprows=1)\n",
    "av = np.mean(d[:,2])\n",
    "k = len(d[:,2][d[:,2]< av])\n",
    "print(k / len(d))"
   ]
  },
  {
   "cell_type": "markdown",
   "metadata": {},
   "source": [
    "12. Назовем \"простым\" такой рецепт, длительность выполнения которого не больше 20 минут и кол-во ингредиентов в котором не больше 5. Создайте версию датасета с дополнительным столбцом, значениями которого являются 1, если рецепт простой, и 0 в противном случае."
   ]
  },
  {
   "cell_type": "code",
   "execution_count": 320,
   "metadata": {},
   "outputs": [
    {
     "name": "stdout",
     "output_type": "stream",
     "text": [
      "[[127244     60     16      0]\n",
      " [ 23891     25      7      0]\n",
      " [ 94746     10      6      0]\n",
      " ...\n",
      " [498432     65     15      0]\n",
      " [370915      5      4      1]\n",
      " [ 81993    140     14      0]]\n"
     ]
    }
   ],
   "source": [
    "d = np.loadtxt(\"minutes_n_ingredients.csv\", dtype=\"int32\",delimiter=\",\",skiprows=1)\n",
    "n1 = d[:,1] <= 20  \n",
    "n2 = d[:,2]<=5\n",
    "four = np.array(n1 * n2, int)\n",
    "fourth = four[np.newaxis,:].T\n",
    "d4 = d.copy()\n",
    "d4 = np.append(d4, fourth, axis=1)\n",
    "print(d4)"
   ]
  },
  {
   "cell_type": "markdown",
   "metadata": {},
   "source": [
    "13. Выведите процент \"простых\" рецептов в датасете"
   ]
  },
  {
   "cell_type": "code",
   "execution_count": 329,
   "metadata": {},
   "outputs": [
    {
     "name": "stdout",
     "output_type": "stream",
     "text": [
      "9.552\n"
     ]
    }
   ],
   "source": [
    "print(np.sum(fourth)/ len(d) * 100)"
   ]
  },
  {
   "cell_type": "markdown",
   "metadata": {},
   "source": [
    "14. Разделим рецепты на группы по следующему правилу. Назовем рецепты короткими, если их продолжительность составляет менее 10 минут; стандартными, если их продолжительность составляет более 10, но менее 20 минут; и длинными, если их продолжительность составляет не менее 20 минут. Создайте трехмерный массив, где нулевая ось отвечает за номер группы (короткий, стандартный или длинный рецепт), первая ось - за сам рецепт и вторая ось - за характеристики рецепта. Выберите максимальное количество рецептов из каждой группы таким образом, чтобы было возможно сформировать трехмерный массив. Выведите форму полученного массива."
   ]
  },
  {
   "cell_type": "code",
   "execution_count": 8,
   "metadata": {},
   "outputs": [
    {
     "name": "stdout",
     "output_type": "stream",
     "text": [
      "(3, 7588, 3)\n"
     ]
    }
   ],
   "source": [
    "d = np.loadtxt(\"minutes_n_ingredients.csv\", dtype=\"int32\",delimiter=\",\",skiprows=1)\n",
    "a = d[d[:,1]  < 10]\n",
    "b = d[((10 <= d[:,1] )*( d[:,1] < 20))]\n",
    "c = d[d[:,1]  >= 20]\n",
    "p = (min(len(a),len(b),len(c)))\n",
    "f = np.zeros((3,p,3))\n",
    "\n",
    "f[(0, np.arange(p), 0)] = a[:,0]\n",
    "f[(0, np.arange(p), 1)] = a[:,1]\n",
    "f[(0, np.arange(p), 2)] = a[:,2]\n",
    "\n",
    "f[(1, np.arange(p), 0)] = b[:p,0]\n",
    "f[(1, np.arange(p), 1)] = b[:p,1]\n",
    "f[(1, np.arange(p), 2)] = b[:p,2]\n",
    "\n",
    "f[(2, np.arange(p), 0)] = c[:p,0]\n",
    "f[(2, np.arange(p), 1)] = c[:p,1]\n",
    "f[(2, np.arange(p), 2)] = c[:p,2]\n",
    "print(np.shape(f))"
   ]
  },
  {
   "cell_type": "code",
   "execution_count": null,
   "metadata": {},
   "outputs": [],
   "source": []
  },
  {
   "cell_type": "code",
   "execution_count": null,
   "metadata": {},
   "outputs": [],
   "source": []
  }
 ],
 "metadata": {
  "kernelspec": {
   "display_name": "Python 3 (ipykernel)",
   "language": "python",
   "name": "python3"
  },
  "language_info": {
   "codemirror_mode": {
    "name": "ipython",
    "version": 3
   },
   "file_extension": ".py",
   "mimetype": "text/x-python",
   "name": "python",
   "nbconvert_exporter": "python",
   "pygments_lexer": "ipython3",
   "version": "3.11.0"
  }
 },
 "nbformat": 4,
 "nbformat_minor": 4
}
