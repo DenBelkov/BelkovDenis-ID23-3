{
 "cells": [
  {
   "cell_type": "code",
   "execution_count": null,
   "id": "4d7066b5",
   "metadata": {},
   "outputs": [],
   "source": []
  },
  {
   "cell_type": "code",
   "execution_count": 8,
   "id": "ad03265f-93b0-4e4c-a50d-79284662bd32",
   "metadata": {},
   "outputs": [
    {
     "name": "stdout",
     "output_type": "stream",
     "text": [
      "'((dsasdas((das(d)das)d)asd)da)' \n",
      "В строке корректное количество скобок\n",
      "'(f(gfhd((hgfdg((fghh)dads)das))ds)adddads())))' \n",
      "В строке НЕ корректное количество скобок\n"
     ]
    }
   ],
   "source": [
    "#1\n",
    "class Stack(list):\n",
    "    def push(self, e):\n",
    "        self.append(e)\n",
    "    def top(self):\n",
    "        el = self[-1]\n",
    "        self.pop()\n",
    "        self.push(el)\n",
    "    def is_empty(self):\n",
    "        return len(self) == 0\n",
    "    \n",
    "def check(line):\n",
    "    op = Stack()\n",
    "    for el in line:\n",
    "        if el == '(':\n",
    "            op.push(el)\n",
    "        elif el == ')':\n",
    "            if op.is_empty():\n",
    "                return False\n",
    "            op.pop()\n",
    "    return op.is_empty()\n",
    "\n",
    "for i in range(2):\n",
    "    line = input()\n",
    "    if check(line):\n",
    "        print(\"В строке корректное количество скобок\")\n",
    "    else:\n",
    "        print(\"В строке НЕ корректное количество скобок\")"
   ]
  },
  {
   "cell_type": "code",
   "execution_count": 285,
   "id": "808b9ecb-b87d-4363-8d0e-6149f4e7741b",
   "metadata": {},
   "outputs": [
    {
     "name": "stdout",
     "output_type": "stream",
     "text": [
      "[1, 2, 1]\n",
      "[1, 2, 1, 4]\n"
     ]
    },
    {
     "ename": "AssertionError",
     "evalue": "Стэк полностью заполнен",
     "output_type": "error",
     "traceback": [
      "\u001b[1;31m---------------------------------------------------------------------------\u001b[0m",
      "\u001b[1;31mAssertionError\u001b[0m                            Traceback (most recent call last)",
      "Cell \u001b[1;32mIn[285], line 21\u001b[0m\n\u001b[0;32m     19\u001b[0m S\u001b[38;5;241m.\u001b[39mpush(\u001b[38;5;241m4\u001b[39m)\n\u001b[0;32m     20\u001b[0m \u001b[38;5;28mprint\u001b[39m(S)\n\u001b[1;32m---> 21\u001b[0m \u001b[43mS\u001b[49m\u001b[38;5;241;43m.\u001b[39;49m\u001b[43mpush\u001b[49m\u001b[43m(\u001b[49m\u001b[38;5;241;43m5\u001b[39;49m\u001b[43m)\u001b[49m\n",
      "Cell \u001b[1;32mIn[285], line 7\u001b[0m, in \u001b[0;36mStack.push\u001b[1;34m(self, e)\u001b[0m\n\u001b[0;32m      6\u001b[0m \u001b[38;5;28;01mdef\u001b[39;00m \u001b[38;5;21mpush\u001b[39m(\u001b[38;5;28mself\u001b[39m, e):\n\u001b[1;32m----> 7\u001b[0m     \u001b[38;5;28;01massert\u001b[39;00m \u001b[38;5;28mlen\u001b[39m(\u001b[38;5;28mself\u001b[39m) \u001b[38;5;241m<\u001b[39m \u001b[38;5;28mself\u001b[39m\u001b[38;5;241m.\u001b[39msize, \u001b[38;5;124m\"\u001b[39m\u001b[38;5;124mСтэк полностью заполнен\u001b[39m\u001b[38;5;124m\"\u001b[39m\n\u001b[0;32m      8\u001b[0m     \u001b[38;5;28mself\u001b[39m\u001b[38;5;241m.\u001b[39mappend(e)\n",
      "\u001b[1;31mAssertionError\u001b[0m: Стэк полностью заполнен"
     ]
    }
   ],
   "source": [
    "#2\n",
    "class Stack(list):\n",
    "    def __init__(self, lst=[], size=1):\n",
    "        self.extend(lst)\n",
    "        self.size = int(size)\n",
    "    def push(self, e):\n",
    "        assert len(self) < self.size, \"Стэк полностью заполнен\"\n",
    "        self.append(e)\n",
    "    def top(self):\n",
    "        el = self[-1]\n",
    "        self.pop()\n",
    "        self.push(el)\n",
    "    def is_empty(self):\n",
    "        return len(self) == 0\n",
    "    \n",
    "d = [1,2]\n",
    "S = Stack(d, size=4)\n",
    "S.push(1)\n",
    "print(S)\n",
    "S.push(4)\n",
    "print(S)\n",
    "S.push(5)"
   ]
  },
  {
   "cell_type": "code",
   "execution_count": 18,
   "id": "d00af370-db74-4e80-b5e2-c3baf3e0c9f8",
   "metadata": {},
   "outputs": [
    {
     "name": "stdout",
     "output_type": "stream",
     "text": [
      "Вся цепь\n",
      "9 8 7 6 5 4 3 2 1 0 2 \n"
     ]
    }
   ],
   "source": [
    "class link():\n",
    "    def __init__(self, el):\n",
    "        self.el = el\n",
    "        self.next = None\n",
    "class Chain():\n",
    "    def __init__(self):\n",
    "        self.head = None\n",
    "    def push(self,el):\n",
    "        newL= link(el)\n",
    "        if self.head == None:\n",
    "            self.head = newL\n",
    "        else:\n",
    "            newL.next = self.head\n",
    "            self.head = newL\n",
    "    def Pr(self):\n",
    "        l = self.head\n",
    "        while l:\n",
    "            print(l.el, end = \" \")\n",
    "            l = l.next\n",
    "        print()\n",
    "        \n",
    "ch = Chain()\n",
    "ch.push(2)\n",
    "for i in range(10):\n",
    "    ch.push(i)\n",
    "print(\"Вся цепь\")\n",
    "ch.Pr()"
   ]
  },
  {
   "cell_type": "code",
   "execution_count": 272,
   "id": "b1c31d91-30d8-41e1-a14d-0ce2357e4075",
   "metadata": {},
   "outputs": [
    {
     "name": "stdout",
     "output_type": "stream",
     "text": [
      "Вся цепь\n",
      "4 5 2 \n",
      "4\n",
      "5\n"
     ]
    }
   ],
   "source": [
    "class link():\n",
    "    def __init__(self, el):\n",
    "        self.el = el\n",
    "        self.next = None\n",
    "        self.prev = None\n",
    "        self.head = self\n",
    "        self.tail = self\n",
    "    def push(self,el):\n",
    "        newL= link(el)\n",
    "        self.head.prev = newL\n",
    "        newL.next = self.head\n",
    "        self.head = newL\n",
    "    def Chain(self):\n",
    "        c = 0\n",
    "        while (eval(\"ch.head\" + \".next\" * c)) != None :\n",
    "            x = (eval(\"ch.head\" + \".next\" * c + \".el\"))\n",
    "            print(x,end = \" \")\n",
    "            c+= 1\n",
    "        print()\n",
    "            \n",
    "ch = link(2)\n",
    "ch.push(5)\n",
    "ch.push(4)\n",
    "print(\"Вся цепь\")\n",
    "ch.Chain()\n",
    "print(ch.head.next.prev.el)\n",
    "print(ch.tail.prev.el)"
   ]
  },
  {
   "cell_type": "code",
   "execution_count": 284,
   "id": "268d7b55-2c3f-49d3-85a9-6012b10617b4",
   "metadata": {},
   "outputs": [
    {
     "name": "stdout",
     "output_type": "stream",
     "text": [
      "5 4 2 \n",
      "5 4 \n"
     ]
    }
   ],
   "source": [
    "#5\n",
    "class link():\n",
    "    def __init__(self, el):\n",
    "        self.el = el\n",
    "        self.next = None\n",
    "        self.prev = None\n",
    "        self.head = self\n",
    "        self.tail = self\n",
    "    def enqueue(self,el):\n",
    "        newL= link(el)\n",
    "        if self.head is None:\n",
    "            self.head = newL\n",
    "        else:\n",
    "            self.head.prev = newL\n",
    "            newL.next = self.head\n",
    "            self.head = newL\n",
    "    def dequeue(self):\n",
    "        x = self.tail\n",
    "        self.tail = x.prev\n",
    "        x.prev.next = None\n",
    "        return x.el\n",
    "    def Chain(self):\n",
    "        c = 0\n",
    "        while (eval(\"ch.head\" + \".next\" * c)) != None :\n",
    "            x = (eval(\"ch.head\" + \".next\" * c + \".el\"))\n",
    "            print(x,end = \" \")\n",
    "            c+= 1\n",
    "        print()\n",
    "    \n",
    "ch = link(2)\n",
    "ch.enqueue(4)\n",
    "ch.enqueue(5)\n",
    "ch.Chain()\n",
    "ch.dequeue()\n",
    "ch.Chain()"
   ]
  },
  {
   "cell_type": "code",
   "execution_count": null,
   "id": "3cfbb8b1-b532-4831-9cba-c3872fb5a1f7",
   "metadata": {},
   "outputs": [],
   "source": []
  }
 ],
 "metadata": {
  "kernelspec": {
   "display_name": "Python 3 (ipykernel)",
   "language": "python",
   "name": "python3"
  },
  "language_info": {
   "codemirror_mode": {
    "name": "ipython",
    "version": 3
   },
   "file_extension": ".py",
   "mimetype": "text/x-python",
   "name": "python",
   "nbconvert_exporter": "python",
   "pygments_lexer": "ipython3",
   "version": "3.10.9"
  }
 },
 "nbformat": 4,
 "nbformat_minor": 5
}
